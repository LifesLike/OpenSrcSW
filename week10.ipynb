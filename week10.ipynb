{
 "cells": [
  {
   "cell_type": "code",
   "execution_count": 2,
   "id": "9229d515",
   "metadata": {
    "scrolled": true
   },
   "outputs": [
    {
     "name": "stdout",
     "output_type": "stream",
     "text": [
      "Numbers? 100 9 123 81 111\n",
      "max = 123\n"
     ]
    }
   ],
   "source": [
    "# 실습문제 2번\n",
    "\n",
    "numbers = list(map(int, input(\"Numbers? \").split()))\n",
    "print(\"max = {}\" .format(max(numbers)))"
   ]
  },
  {
   "cell_type": "code",
   "execution_count": 12,
   "id": "92069863",
   "metadata": {},
   "outputs": [
    {
     "name": "stdout",
     "output_type": "stream",
     "text": [
      "암호화할 문자열 입력: abc def\n",
      "['efg', 'bcd']\n",
      "복호화할 문자열 입력: abc def\n",
      "['cde', '`ab']\n"
     ]
    }
   ],
   "source": [
    "# 실습문제 3번\n",
    "\n",
    "def encode(input_list):\n",
    "    inverse_list = input_list[::-1]\n",
    "    out_list = []\n",
    "    \n",
    "    for ch in inverse_list:\n",
    "        out_str = \"\"\n",
    "        for i in ch:\n",
    "            i = chr(ord(i) + 1)\n",
    "            out_str += i\n",
    "        out_list.append(out_str)\n",
    "        \n",
    "    return out_list\n",
    "    \n",
    "def decode(input_list):\n",
    "    inverse_list = input_list[::-1]\n",
    "    out_list = []\n",
    "    \n",
    "    for ch in inverse_list:\n",
    "        out_str = \"\"\n",
    "        for i in ch:\n",
    "            i = chr(ord(i) - 1)\n",
    "            out_str += i\n",
    "        out_list.append(out_str)\n",
    "        \n",
    "    return out_list\n",
    "    \n",
    "    \n",
    "input_str = list(input(\"암호화할 문자열 입력: \").split())\n",
    "print(encode(input_str))\n",
    "input_str = list(input(\"복호화할 문자열 입력: \").split())\n",
    "print(decode(input_str))\n",
    "\n"
   ]
  },
  {
   "cell_type": "code",
   "execution_count": null,
   "id": "7c031cd9",
   "metadata": {},
   "outputs": [],
   "source": [
    "# 실습문제 4번\n",
    "\n",
    "\n",
    "def get_key_by_value(items, tar_value):\n",
    "    for key, value in items:\n",
    "        if value == tar_value:\n",
    "            return key\n",
    "\n",
    "    return None\n",
    "\n",
    "\n",
    "phone_book = {}\n",
    "\n",
    "for i in range(10):\n",
    "    name = input(\"name?: \")\n",
    "    phone_num = input(\"tel number?: \")\n",
    "    phone_book[name] = phone_num\n",
    "\n",
    "search_name = input(\"검색할 이름?: \")\n",
    "if search_name in phone_book:\n",
    "    print(phone_book[search_name])\n",
    "else:\n",
    "    print(\"그런 이름의 사용자가 없습니다.\")\n",
    "\n",
    "search_num = input(\"검색할 전화번호?: \")\n",
    "found_key = get_key_by_value(phone_book.items(), search_num)\n",
    "\n",
    "if found_key:\n",
    "    print(found_key)\n",
    "else:\n",
    "    print(\"그런 전화번호를 가진 사용자가 없습니다.\")\n",
    "\n"
   ]
  }
 ],
 "metadata": {
  "kernelspec": {
   "display_name": "Python 3",
   "language": "python",
   "name": "python3"
  },
  "language_info": {
   "codemirror_mode": {
    "name": "ipython",
    "version": 3
   },
   "file_extension": ".py",
   "mimetype": "text/x-python",
   "name": "python",
   "nbconvert_exporter": "python",
   "pygments_lexer": "ipython3",
   "version": "3.9.4"
  }
 },
 "nbformat": 4,
 "nbformat_minor": 5
}
