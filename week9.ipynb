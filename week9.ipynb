{
 "cells": [
  {
   "cell_type": "code",
   "execution_count": 5,
   "id": "1a2aef8e",
   "metadata": {},
   "outputs": [
    {
     "name": "stdout",
     "output_type": "stream",
     "text": [
      "x값 입력: 10\n",
      "3x^2 + 5x + 3 = 353.0\n"
     ]
    }
   ],
   "source": [
    "# 실습문제 1번\n",
    "x = float(input(\"x값 입력: \"))\n",
    "y = (3 * x**2) + 5*x + 3\n",
    "print(\"3x^2 + 5x + 3 =\", y)"
   ]
  },
  {
   "cell_type": "code",
   "execution_count": 3,
   "id": "2a23148d",
   "metadata": {},
   "outputs": [
    {
     "name": "stdout",
     "output_type": "stream",
     "text": [
      "반지름 입력: 10\n",
      "원의 넓이: 314.0\n"
     ]
    }
   ],
   "source": [
    "# 실습문제 2번\n",
    "pi = 3.14\n",
    "r = float(input(\"반지름 입력: \"))\n",
    "s = r**2 * pi\n",
    "print(\"원의 넓이:\", s)"
   ]
  },
  {
   "cell_type": "code",
   "execution_count": null,
   "id": "a8e13f51",
   "metadata": {},
   "outputs": [],
   "source": []
  }
 ],
 "metadata": {
  "kernelspec": {
   "display_name": "Python 3",
   "language": "python",
   "name": "python3"
  },
  "language_info": {
   "codemirror_mode": {
    "name": "ipython",
    "version": 3
   },
   "file_extension": ".py",
   "mimetype": "text/x-python",
   "name": "python",
   "nbconvert_exporter": "python",
   "pygments_lexer": "ipython3",
   "version": "3.9.4"
  }
 },
 "nbformat": 4,
 "nbformat_minor": 5
}
