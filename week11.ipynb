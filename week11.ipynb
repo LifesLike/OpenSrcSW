{
 "cells": [
  {
   "cell_type": "code",
   "execution_count": 8,
   "id": "bdba6972",
   "metadata": {},
   "outputs": [
    {
     "name": "stdout",
     "output_type": "stream",
     "text": [
      "키보드로 cp file1 file2 입력:cp text1.txt text2.txt\n"
     ]
    }
   ],
   "source": [
    "# 실습문제 6번\n",
    "\n",
    "userinput = input(\"키보드로 cp file1 file2 입력:\")\n",
    "args = userinput.split()\n",
    "lines = \"\"\n",
    "with open(args[1], 'r') as read_file:\n",
    "    lines = read_file.readlines()\n",
    "\n",
    "with open(args[2], 'w') as write_file:\n",
    "    for line in lines:\n",
    "        write_file.write(line)\n",
    "        "
   ]
  },
  {
   "cell_type": "code",
   "execution_count": 9,
   "id": "aed2e50c",
   "metadata": {},
   "outputs": [
    {
     "name": "stdout",
     "output_type": "stream",
     "text": [
      "키보드로 wc 명령할 파일 입력: text1.txt\n",
      "number of lines: 5\n",
      "number of words: 10\n"
     ]
    }
   ],
   "source": [
    "# 실습문제 7번\n",
    "\n",
    "userinput = input(\"키보드로 wc 명령할 파일 입력: \")\n",
    "args = userinput.split()\n",
    "num_of_lines = num_of_words = 0\n",
    "with open(args[0], 'r') as read_file:\n",
    "    line = read_file.readline()\n",
    "    while line:\n",
    "        num_of_lines += 1\n",
    "        num_of_words += len(line.split())\n",
    "        line = read_file.readline()\n",
    "\n",
    "print(\"number of lines: {}\" .format(num_of_lines))\n",
    "print(\"number of words: {}\" .format(num_of_words))\n"
   ]
  },
  {
   "cell_type": "code",
   "execution_count": 6,
   "id": "702ed98e",
   "metadata": {},
   "outputs": [
    {
     "name": "stdout",
     "output_type": "stream",
     "text": [
      "1 + 2 = 3 입니다.\n",
      "5 - 1 = 4 입니다.\n",
      "2 * 3 = 6 입니다.\n",
      "6 / 2 = 3.0 입니다.\n"
     ]
    }
   ],
   "source": [
    "# 실습문제 8번\n",
    "\n",
    "class Calc:\n",
    "    def sum(self, a, b):\n",
    "        result = a + b\n",
    "        print(\"{} + {} = {} 입니다.\" .format(a, b, result))\n",
    "\n",
    "    def sub(self, a, b):\n",
    "        result = a - b\n",
    "        print(\"{} - {} = {} 입니다.\" .format(a, b, result))\n",
    "\n",
    "    def multi(self, a, b):\n",
    "        result = a * b\n",
    "        print(\"{} * {} = {} 입니다.\" .format(a, b, result))\n",
    "\n",
    "    def divi(self, a, b):\n",
    "        result = a / b\n",
    "        print(\"{} / {} = {} 입니다.\" .format(a, b, result))\n",
    "\n",
    "\n",
    "calc = Calc()\n",
    "calc.sum(1, 2)\n",
    "calc.sub(5, 1)\n",
    "calc.multi(2, 3)\n",
    "calc.divi(6, 2)\n"
   ]
  },
  {
   "cell_type": "code",
   "execution_count": 2,
   "id": "ccf065c2",
   "metadata": {},
   "outputs": [
    {
     "name": "stdout",
     "output_type": "stream",
     "text": [
      "계산식 입력: 1 + 2 - 3 * 4 + 5\n",
      "계산식 출력: 1 + 2 - 3 * 4 + 5 = -4.0\n"
     ]
    }
   ],
   "source": [
    "# 실습문제 9번\n",
    "\n",
    "class Stack:\n",
    "    def __init__(self):\n",
    "        self.stack = []\n",
    "\n",
    "    def push(self, data):\n",
    "        self.stack.append(data)\n",
    "\n",
    "    def pop(self):\n",
    "        return self.stack.pop()\n",
    "\n",
    "    def peek(self):\n",
    "        return self.stack[-1]\n",
    "\n",
    "    def is_empty(self):\n",
    "        return not self.stack\n",
    "\n",
    "    \n",
    "class Calculator:\n",
    "    def __init__(self):\n",
    "        self.priority = {\n",
    "            '+': 0,\n",
    "            '-': 0,\n",
    "            '*': 1,\n",
    "            '/': 1\n",
    "        }\n",
    "\n",
    "    def operator_priority(self, operator):\n",
    "        return self.priority.get(operator)\n",
    "\n",
    "    def to_postfix(self, calculation):\n",
    "        num_list = []\n",
    "        stack = Stack()\n",
    "        for char in calculation.split():\n",
    "            if char.isdigit():\n",
    "                num_list.append(char)\n",
    "            elif stack.is_empty():\n",
    "                stack.push(char)\n",
    "            elif self.operator_priority(char) > self.operator_priority(stack.peek()):\n",
    "                stack.push(char)\n",
    "            else:\n",
    "                while self.operator_priority(char) <= self.operator_priority(stack.peek()):\n",
    "                    num_list.append(stack.pop())\n",
    "                    if stack.is_empty():\n",
    "                        break\n",
    "                stack.push(char)\n",
    "        while not stack.is_empty():\n",
    "            num_list.append(stack.pop())\n",
    "\n",
    "        return num_list\n",
    "\n",
    "    def calc_operation(self, postfix):\n",
    "        stack = Stack()\n",
    "        # temp_result = []\n",
    "        for char in postfix:\n",
    "            if char.isdigit():\n",
    "                stack.push(char)\n",
    "            else:\n",
    "                calc = 0\n",
    "                operand2 = float(stack.pop())\n",
    "                operand1 = float(stack.pop())\n",
    "                if char == '+':\n",
    "                    calc = operand1 + operand2\n",
    "                elif char == '-':\n",
    "                    calc = operand1 - operand2\n",
    "                elif char == '*':\n",
    "                    calc = operand1 * operand2\n",
    "                else:\n",
    "                    calc = operand1 / operand2\n",
    "                stack.push(calc)\n",
    "\n",
    "        return stack.pop()\n",
    "\n",
    "\n",
    "if __name__ == \"__main__\":\n",
    "    calc = Calculator()\n",
    "    operation = input(\"계산식 입력: \")\n",
    "    postfix = calc.to_postfix(operation)\n",
    "    result = calc.calc_operation(postfix)\n",
    "    print(\"계산식 출력: {} = {}\" .format(operation, result))"
   ]
  },
  {
   "cell_type": "code",
   "execution_count": null,
   "id": "cc120abf",
   "metadata": {},
   "outputs": [],
   "source": []
  }
 ],
 "metadata": {
  "kernelspec": {
   "display_name": "Python 3",
   "language": "python",
   "name": "python3"
  },
  "language_info": {
   "codemirror_mode": {
    "name": "ipython",
    "version": 3
   },
   "file_extension": ".py",
   "mimetype": "text/x-python",
   "name": "python",
   "nbconvert_exporter": "python",
   "pygments_lexer": "ipython3",
   "version": "3.9.4"
  }
 },
 "nbformat": 4,
 "nbformat_minor": 5
}
