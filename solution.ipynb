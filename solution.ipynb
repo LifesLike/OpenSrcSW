{
 "cells": [
  {
   "cell_type": "code",
   "execution_count": 2,
   "id": "62bc70bf",
   "metadata": {},
   "outputs": [
    {
     "name": "stdout",
     "output_type": "stream",
     "text": [
      "(1, 2)\n",
      "(3, 4)\n",
      "(4, 6)\n"
     ]
    }
   ],
   "source": [
    "# 문제1\n",
    "class Point:\n",
    "    def __init__(self, x, y):\n",
    "        self.x, self.y = x, y\n",
    "\n",
    "    def show(self):\n",
    "        print((self.x, self.y))\n",
    "\n",
    "    def __add__(self, other):\n",
    "        return Point(self.x + other.x, self.y + other.y)\n",
    "\n",
    "\n",
    "a = Point(1, 2)\n",
    "a.show()\n",
    "\n",
    "b = Point(3, 4)\n",
    "b.show()\n",
    "\n",
    "a = a + b\n",
    "a.show()"
   ]
  },
  {
   "cell_type": "code",
   "execution_count": 3,
   "id": "b40ccd37",
   "metadata": {},
   "outputs": [
    {
     "name": "stdout",
     "output_type": "stream",
     "text": [
      "Max week = 5/8 ~ 5/14\n"
     ]
    }
   ],
   "source": [
    "# 문제 2\n",
    "import csv\n",
    "\n",
    "with open(\"/Users/kyuhyeongkwon/PycharmProjects/오픈소스입문/기말고사/seoul.csv\", 'r', encoding='cp949') as csv_file:\n",
    "    data = csv.reader(csv_file)\n",
    "    max_diff = [0 for i in range(5)]\n",
    "    cnt = 0\n",
    "    index = 0\n",
    "    next(data)\n",
    "    for row in data:\n",
    "        cnt += 1\n",
    "        date = int(row[0].split(\"-\")[2])\n",
    "        # print(date)\n",
    "        lowest_temp = float(row[3])\n",
    "        hightest_temp = float(row[4])\n",
    "        temp_sum = hightest_temp - lowest_temp\n",
    "        max_diff[cnt // 7] += temp_sum\n",
    "\n",
    "    day = \"\"\n",
    "    if max_diff.index(max(max_diff)) == 0:\n",
    "        day = \"5/1 ~ 5/7\"\n",
    "    elif max_diff.index(max(max_diff)) == 1:\n",
    "        day = \"5/8 ~ 5/14\"\n",
    "    elif max_diff.index(max(max_diff)) == 2:\n",
    "        day = \"5/15 ~ 5/21\"\n",
    "    elif max_diff.index(max(max_diff)) == 3:\n",
    "        day = \"5/22 ~ 5/28\"\n",
    "    else:\n",
    "        day = \"5/29 ~ 5/31\"\n",
    "\n",
    "    print(\"Max week =\", day)"
   ]
  },
  {
   "cell_type": "code",
   "execution_count": 1,
   "id": "3e35e06e",
   "metadata": {},
   "outputs": [
    {
     "data": {
      "image/png": "[encoded data removed]",
      "text/plain": [
       "<Figure size 432x288 with 1 Axes>"
      ]
     },
     "metadata": {
      "needs_background": "light"
     },
     "output_type": "display_data"
    }
   ],
   "source": [
    "# 문제 3\n",
    "import numpy as np\n",
    "import matplotlib.pyplot as plt\n",
    "\n",
    "Docs = np.array([[1, 1, 0, 1, 0, 1], [1, 1, 1, 0, 1, 0], [1, 1, 0, 1, 0, 0]])\n",
    "Query = np.array([1, 1, 0, 0, 1, 0])\n",
    "result = []\n",
    "\n",
    "\n",
    "def cal_cos_affinity(doc, query):\n",
    "    doc_sum = 0\n",
    "    query_sum = 0\n",
    "    for i in doc:\n",
    "        doc_sum += i**2\n",
    "    doc_sum = np.sqrt(doc_sum)\n",
    "    for i in query:\n",
    "        query_sum += i**2\n",
    "    query_sum = np.sqrt(query_sum)\n",
    "    parent = doc * query\n",
    "    return np.sum(parent / (doc_sum * query_sum))\n",
    "\n",
    "\n",
    "for i in range(3):\n",
    "    result.append(cal_cos_affinity(Docs[i], Query))\n",
    "\n",
    "plt.title(\"Cosine similiarities\")\n",
    "plt.bar(\"doc1={:<0.2}\".format(result[0]), result[0], color='b')\n",
    "plt.bar(\"doc2={:<0.2}\".format(result[1]), result[1], color='b')\n",
    "plt.bar(\"doc3={:<0.2}\".format(result[2]), result[2], color='b')\n",
    "\n",
    "plt.show()\n"
   ]
  },
  {
   "cell_type": "code",
   "execution_count": null,
   "id": "f5c8b7b4",
   "metadata": {},
   "outputs": [],
   "source": []
  }
 ],
 "metadata": {
  "kernelspec": {
   "display_name": "Python 3",
   "language": "python",
   "name": "python3"
  },
  "language_info": {
   "codemirror_mode": {
    "name": "ipython",
    "version": 3
   },
   "file_extension": ".py",
   "mimetype": "text/x-python",
   "name": "python",
   "nbconvert_exporter": "python",
   "pygments_lexer": "ipython3",
   "version": "3.9.4"
  }
 },
 "nbformat": 4,
 "nbformat_minor": 5
}
